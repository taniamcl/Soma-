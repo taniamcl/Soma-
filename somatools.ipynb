{
 "cells": [
  {
   "cell_type": "markdown",
   "metadata": {
    "collapsed": true
   },
   "source": [
    "Tools to study different variations of the the somma cube\n",
    "----------------------------------\n",
    "---------------------------------"
   ]
  },
  {
   "cell_type": "code",
   "execution_count": 1,
   "metadata": {
    "collapsed": true
   },
   "outputs": [],
   "source": [
    "import matplotlib.pyplot as plt\n",
    "import matplotlib.patches as patches"
   ]
  },
  {
   "cell_type": "markdown",
   "metadata": {},
   "source": [
    "Rotation, shifting and transposition of 2D--shapes\n",
    "----------------------------------------------------------------"
   ]
  },
  {
   "cell_type": "code",
   "execution_count": 2,
   "metadata": {
    "collapsed": true
   },
   "outputs": [],
   "source": [
    "def shift_fX(x):\n",
    "    shift_order_fX = [8, 0, 1, 2, 3, 4, 5, 6, 7]\n",
    "    return [x[i] for i in  shift_order_fX] \n",
    "\n",
    "def shift_bX(x):\n",
    "    shift_order_bX = [1, 2, 3, 4, 5, 6, 7, 8, 0]\n",
    "    return [x[i] for i in  shift_order_bX] \n",
    "\n",
    "def shift_fY(x):\n",
    "    shift_order_fY = [6, 7, 8, 0, 1, 2, 3, 4, 5]\n",
    "    return [x[i] for i in  shift_order_fY] \n",
    "\n",
    "def shift_bY(x):\n",
    "    shift_order_bY = [3, 4, 5, 6, 7, 8, 0, 1, 2]\n",
    "    return [x[i] for i in  shift_order_bY]\n",
    "\n",
    "def transposition(x):\n",
    "    transpose_order = [0,3,6,1,4,7,2,5,8] \n",
    "    return  [x[i] for i in transpose_order]"
   ]
  },
  {
   "cell_type": "code",
   "execution_count": 3,
   "metadata": {
    "collapsed": true
   },
   "outputs": [],
   "source": [
    "def turn(x):\n",
    "    turn_order =   [6,3,0,7,4,1,8,5,2] \n",
    "    return  [x[i] for i in turn_order]"
   ]
  },
  {
   "cell_type": "markdown",
   "metadata": {},
   "source": [
    "Graphical representation of 2D shapes\n",
    "------------------------------------------------"
   ]
  },
  {
   "cell_type": "code",
   "execution_count": 4,
   "metadata": {
    "collapsed": true
   },
   "outputs": [],
   "source": [
    "def build_shape(x):\n",
    "    dx = 1/3\n",
    "    pos_2d ={\n",
    "         0:(0,0), \n",
    "         1:(dx,0),\n",
    "         2:(2*dx,0),\n",
    "         3:(0,dx), \n",
    "         4:(dx,dx),\n",
    "         5:(2*dx,dx), \n",
    "         6:(0,2*dx), \n",
    "         7:(dx,2*dx),\n",
    "         8:(2*dx,2*dx)}\n",
    "    pieces = []\n",
    "    frame = patches.Rectangle(\n",
    "        (0.0, 0.0),1, 1, fill=False, edgecolor=\"red\",linewidth=2) \n",
    "    pieces.append(frame)\n",
    "    for i in range(9):\n",
    "        if x[i]==1:\n",
    "            p = patches.Rectangle(pos_2d[i], dx,dx, fill=True)\n",
    "            pieces.append(p)\n",
    "    return pieces"
   ]
  },
  {
   "cell_type": "code",
   "execution_count": 5,
   "metadata": {
    "collapsed": true
   },
   "outputs": [],
   "source": [
    "def show_shape(x):\n",
    "    ax1=plt.subplot(111,aspect='equal')\n",
    "    shape = build_shape(x)\n",
    "    for p in shape: ax1.add_patch(p)\n",
    "    plt.axis('off')\n",
    "    plt.show() "
   ]
  },
  {
   "cell_type": "markdown",
   "metadata": {},
   "source": [
    "Spatial rotation and shifting of 3D--shapes\n",
    "----------------------------------------------------"
   ]
  },
  {
   "cell_type": "code",
   "execution_count": 6,
   "metadata": {
    "collapsed": true
   },
   "outputs": [],
   "source": [
    "def shift3D_fX(x):\n",
    "    return  shift_fX(x[0:9]) + shift_fX(x[9:18])+ shift_fX(x[18:27])\n",
    "\n",
    "def shift3D_bX(x):\n",
    "    return  shift_bX(x[0:9]) + shift_bX(x[9:18])+ shift_bX(x[18:27])\n",
    "\n",
    "def shift3D_fY(x):\n",
    "    return  shift_fY(x[0:9]) + shift_fY(x[9:18])+ shift_fY(x[18:27])\n",
    "\n",
    "def shift3D_bY(x):\n",
    "    return  shift_bY(x[0:9]) + shift_bY(x[9:18])+ shift_bY(x[18:27])\n",
    "\n",
    "def shift3D_fZ(x):\n",
    "    return x[18:27] + x[0:9] + x[9:18]\n",
    "\n",
    "def shift3D_bZ(x):\n",
    "    return x[9:18] + x[18:27] + x[0:9]"
   ]
  },
  {
   "cell_type": "code",
   "execution_count": 7,
   "metadata": {},
   "outputs": [],
   "source": [
    "def turn3D_Z(x):\n",
    "    return  turn(x[0:9])+ turn(x[9:18])+ turn(x[18:27])\n",
    "\n",
    "def turn3D_Y(x):\n",
    "    turn_order_Y = [18,  9,  0, 21, 12,  3, 24, 15,  6, 19, 10,  1, 22, 13,  4, 25, 16,\n",
    "                   7, 20, 11,  2, 23, 14,  5, 26, 17,  8]\n",
    "    return  [x[i] for i in turn_order_Y]\n",
    "\n",
    "def turn3D_X(x):\n",
    "    turn_order_X = [18, 19, 20,  9, 10, 11,  0,  1,  2, 21, 22, 23, 12, 13, 14,  3,  4,\n",
    "        5, 24, 25, 26, 15, 16, 17,  6,  7,  8]\n",
    "    return  [x[i] for i in turn_order_X]\n"
   ]
  },
  {
   "cell_type": "markdown",
   "metadata": {},
   "source": [
    "Graphical representation of the horizontal sections of the cube\n",
    "---------------------------------------------------------------"
   ]
  },
  {
   "cell_type": "code",
   "execution_count": 8,
   "metadata": {
    "collapsed": true
   },
   "outputs": [],
   "source": [
    "def show3D_shape(x):\n",
    "    ax1 = plt.subplot(131,aspect='equal')\n",
    "    shape = build_shape(x[:9])\n",
    "    for p in shape: ax1.add_patch(p)\n",
    "    plt.axis('off')\n",
    "    ####################\n",
    "    ax2=plt.subplot(132,aspect='equal')\n",
    "    shape = build_shape(x[9:18])\n",
    "    for p in shape: ax2.add_patch(p)\n",
    "    plt.axis('off')\n",
    "    ##########################\n",
    "    ax3=plt.subplot(133,aspect='equal')\n",
    "    shape = build_shape(x[18:])\n",
    "    for p in shape: ax3.add_patch(p)\n",
    "    plt.axis('off')\n",
    "    ###################\n",
    "    plt.show() "
   ]
  },
  {
   "cell_type": "markdown",
   "metadata": {},
   "source": [
    "Some shapes mading up the Soma cube and several of its variations: black devil and red devil\n",
    "------------------------------------------------------------------"
   ]
  },
  {
   "cell_type": "markdown",
   "metadata": {},
   "source": [
    "Soma\n",
    "-----"
   ]
  },
  {
   "cell_type": "code",
   "execution_count": 9,
   "metadata": {
    "collapsed": true
   },
   "outputs": [],
   "source": [
    "AA = [1,0,0,1,0,0,0,0,0,\n",
    "      0,0,0,1,1,0,0,0,0,\n",
    "      0,0,0,0,0,0,0,0,0] \n",
    "#freedomA = (1,1,1)\n",
    "\n",
    "BB = [0,0,0,1,1,0,0,0,0,\n",
    "      1,0,0,1,0,0,0,0,0,\n",
    "      0,0,0,0,0,0,0,0,0] \n",
    "#freedomB = (1,1,1)\n",
    "LL = [1,1,0,1,0,0,1,0,0,\n",
    "      0,0,0,0,0,0,0,0,0,\n",
    "      0,0,0,0,0,0,0,0,0] \n",
    "#freedomL = (1,2,0)\n",
    "PP = [1,0,0,0,0,0,0,0,0,\n",
    "      1,1,0,1,0,0,0,0,0,\n",
    "      0,0,0,0,0,0,0,0,0] \n",
    "#freedomP = (1,1,1)\n",
    "TT = [1,1,1,0,1,0,0,0,0,\n",
    "      0,0,0,0,0,0,0,0,0,\n",
    "      0,0,0,0,0,0,0,0,0]\n",
    "#freedomT = (0,1,2)\n",
    "VV = [1,1,0,1,0,0,0,0,0,\n",
    "      0,0,0,0,0,0,0,0,0,\n",
    "      0,0,0,0,0,0,0,0,0] \n",
    "#freedomV = (1,1,2)\n",
    "ZZ = [1,1,0,0,1,1,0,0,0,\n",
    "      0,0,0,0,0,0,0,0,0,\n",
    "      0,0,0,0,0,0,0,0,0] \n",
    "#freedomZ = (0,1,2)"
   ]
  },
  {
   "cell_type": "markdown",
   "metadata": {},
   "source": [
    "Black devil\n",
    "-------------"
   ]
  },
  {
   "cell_type": "markdown",
   "metadata": {},
   "source": [
    "The black devil is made up of six polycubes: AA, BB, LL, TTB, GAB, ZZB, three of which are share with the Soma cube. Therefore it suffies to describe GAB, TTB and ZZB only."
   ]
  },
  {
   "cell_type": "code",
   "execution_count": 10,
   "metadata": {
    "collapsed": true
   },
   "outputs": [],
   "source": [
    "GAB = [1,0,0,1,0,0,1,1,0,\n",
    "       0,0,0,0,0,0,0,1,0,\n",
    "       0,0,0,0,0,0,0,0,0]\n",
    "#freedomGAB = (1,0,1)\n",
    "TTB = [1,0,0,1,1,0,1,0,0,\n",
    "       1,0,0,0,0,0,0,0,0,\n",
    "       0,0,0,0,0,0,0,0,0]\n",
    "#freedomTTB = (1,0,1)\n",
    "ZZB = [0,0,0,1,0,0,0,0,0,\n",
    "       1,1,0,1,0,0,0,0,0,\n",
    "       0,1,0,0,0,0,0,0,0]\n",
    "#freedomZZB = (1,1,0)"
   ]
  },
  {
   "cell_type": "code",
   "execution_count": null,
   "metadata": {
    "collapsed": true
   },
   "outputs": [],
   "source": []
  },
  {
   "cell_type": "markdown",
   "metadata": {},
   "source": [
    "Red devil\n",
    "-----------"
   ]
  },
  {
   "cell_type": "markdown",
   "metadata": {},
   "source": [
    "The Red devil cube is made up of six polycubes: AA, BB, LL, GAR, TTI, ZZR"
   ]
  },
  {
   "cell_type": "code",
   "execution_count": 11,
   "metadata": {},
   "outputs": [],
   "source": [
    "GAR = [1,1,1,0,0,0,0,0,0,\n",
    "       1,0,0,1,0,0,0,0,0,\n",
    "       0,0,0,0,0,0,0,0,0] \n",
    "\n",
    "TTR =  [1,1,1,0,0,1,0,0,0,\n",
    "        0,1,0,0,0,0,0,0,0,\n",
    "        0,0,0,0,0,0,0,0,0] \n",
    "\n",
    "ZZR =  [0,1,1,0,1,0,0,0,0,\n",
    "        0,0,0,1,1,0,0,0,0,\n",
    "        0,0,0,0,0,0,0,0,0] "
   ]
  },
  {
   "cell_type": "code",
   "execution_count": null,
   "metadata": {
    "collapsed": true
   },
   "outputs": [],
   "source": []
  },
  {
   "cell_type": "code",
   "execution_count": null,
   "metadata": {
    "collapsed": true
   },
   "outputs": [],
   "source": []
  }
 ],
 "metadata": {
  "kernelspec": {
   "display_name": "Python 3",
   "language": "python",
   "name": "python3"
  },
  "language_info": {
   "codemirror_mode": {
    "name": "ipython",
    "version": 3
   },
   "file_extension": ".py",
   "mimetype": "text/x-python",
   "name": "python",
   "nbconvert_exporter": "python",
   "pygments_lexer": "ipython3",
   "version": "3.6.3"
  }
 },
 "nbformat": 4,
 "nbformat_minor": 1
}
