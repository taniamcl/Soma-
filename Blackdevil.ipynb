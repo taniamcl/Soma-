{
 "cells": [
  {
   "cell_type": "code",
   "execution_count": 1,
   "metadata": {
    "collapsed": true
   },
   "outputs": [],
   "source": [
    "import numpy as np\n",
    "import itertools\n",
    "import somatools as smt\n",
    "import csv"
   ]
  },
  {
   "cell_type": "markdown",
   "metadata": {},
   "source": [
    "The black debil cube is made up of the shapes A, B, G, L, T, Z as defined below.  "
   ]
  },
  {
   "cell_type": "code",
   "execution_count": 2,
   "metadata": {},
   "outputs": [],
   "source": [
    "A = smt.AA\n",
    "B = smt.BB\n",
    "G = smt.GAB\n",
    "L = smt.LL\n",
    "T = smt.TTB\n",
    "Z = smt.ZZB"
   ]
  },
  {
   "cell_type": "code",
   "execution_count": 3,
   "metadata": {},
   "outputs": [],
   "source": [
    "tX = smt.turn3D_X\n",
    "tY = smt.turn3D_Y\n",
    "tZ = smt.turn3D_Z\n",
    "sX = smt.shift3D_fX\n",
    "sY = smt.shift3D_fY\n",
    "sZ = smt.shift3D_fZ\n",
    "pict = smt.show3D_shape"
   ]
  },
  {
   "cell_type": "code",
   "execution_count": 4,
   "metadata": {
    "collapsed": true
   },
   "outputs": [],
   "source": [
    "# To remove repeated element in a list\n",
    "def cleaning(L):\n",
    "    S =[]\n",
    "    for x in L: \n",
    "        if x not in S: S.append(x)\n",
    "    return S"
   ]
  },
  {
   "cell_type": "markdown",
   "metadata": {},
   "source": [
    "Any shape allows three $\\pi/2$ rotations. The shifting depend on each shape according to the following list \n",
    "A : (1,1,1), B: (1,1,1), G: (1,0,1), L: (1,0,2), T: (0,1,2), Z: (1,1,0)\n",
    "where the first, second and third  coordinate mean  the maximum number of shiftig in the X, the Y and the Z direction respectively.    "
   ]
  },
  {
   "cell_type": "code",
   "execution_count": 5,
   "metadata": {
    "collapsed": true
   },
   "outputs": [],
   "source": [
    "def posA():\n",
    "    Dm = [A]\n",
    "    Mappings = [sX, sY, sZ, tX, tX, tX, tY, tY, tY, tZ, tZ, tZ]\n",
    "    for f in Mappings:\n",
    "        Cdm = map(f,Dm)\n",
    "        Dm = list(itertools.chain(Dm,Cdm))\n",
    "    return cleaning(Dm)\n",
    "\n",
    "def posB():\n",
    "    Dm = [B]\n",
    "    Mappings = [sX, sY, sZ, tX, tX, tX, tY, tY, tY, tZ, tZ, tZ]\n",
    "    for f in Mappings:\n",
    "        Cdm = map(f,Dm)\n",
    "        Dm = list(itertools.chain(Dm,Cdm))\n",
    "    return cleaning(Dm)\n",
    "\n",
    "def posG():\n",
    "    Dm = [G]\n",
    "    Mappings = [sX, sZ, tX, tX, tX, tY, tY, tY, tZ, tZ, tZ]\n",
    "    for f in Mappings:\n",
    "        Cdm = map(f,Dm)\n",
    "        Dm = list(itertools.chain(Dm,Cdm))\n",
    "    return cleaning(Dm)\n",
    "\n",
    "def posL():\n",
    "    Dm = [L]\n",
    "    Mappings = [sX, sY, sY, tX, tX, tX, tY, tY, tY, tZ, tZ, tZ]\n",
    "    for f in Mappings:\n",
    "        Cdm = map(f,Dm)\n",
    "        Dm = list(itertools.chain(Dm,Cdm))\n",
    "    return cleaning(Dm)\n",
    "\n",
    "def posT():\n",
    "    Dm = [T]\n",
    "    Mappings = [sX, sZ, tX, tX, tX, tY, tY, tY, tZ, tZ, tZ]\n",
    "    for f in Mappings:\n",
    "        Cdm = map(f,Dm)\n",
    "        Dm = list(itertools.chain(Dm,Cdm))\n",
    "    return cleaning(Dm)\n",
    "\n",
    "\n",
    "def posZ():\n",
    "    Dm = [Z]\n",
    "    Mappings = [sX, sY, tX, tX, tX, tY, tY, tY, tZ, tZ, tZ]\n",
    "    for f in Mappings:\n",
    "        Cdm = map(f,Dm)\n",
    "        Dm = list(itertools.chain(Dm,Cdm))\n",
    "    return cleaning(Dm)"
   ]
  },
  {
   "cell_type": "code",
   "execution_count": 6,
   "metadata": {},
   "outputs": [],
   "source": [
    "List_A = [np.array(x) for x in posA()]\n",
    "List_B = [np.array(x) for x in posB()]\n",
    "List_G = [np.array(x) for x in posG()]\n",
    "List_L = [np.array(x) for x in posL()]\n",
    "List_T = [np.array(x) for x in posT()]\n",
    "List_Z = [np.array(x) for x in posZ()]"
   ]
  },
  {
   "cell_type": "code",
   "execution_count": 7,
   "metadata": {},
   "outputs": [
    {
     "name": "stdout",
     "output_type": "stream",
     "text": [
      "96 96 96 216 96 48\n"
     ]
    }
   ],
   "source": [
    "print(len(List_A), len(List_B), len(List_G),len(List_L),len(List_T), len(List_Z) )"
   ]
  },
  {
   "cell_type": "code",
   "execution_count": 8,
   "metadata": {
    "collapsed": true
   },
   "outputs": [],
   "source": [
    "def check_ok(x):\n",
    "    return sum(x[0]*x[1]) == 0\n",
    "\n",
    "def supercheck_ok(x):\n",
    "    return sum(sum(x[0])*x[1]) == 0"
   ]
  },
  {
   "cell_type": "code",
   "execution_count": 9,
   "metadata": {
    "collapsed": true
   },
   "outputs": [],
   "source": [
    "def join(H, K):\n",
    "    raw = itertools.product(H, K)\n",
    "    HK =  np.array(list(filter(supercheck_ok,raw)) )\n",
    "    return [np.vstack([z[0], z[1]]) for z in HK]"
   ]
  },
  {
   "cell_type": "code",
   "execution_count": 10,
   "metadata": {},
   "outputs": [],
   "source": [
    "AB_raw  = itertools.product(List_A, List_B)\n",
    "AB = np.array(list(filter(check_ok,AB_raw)))"
   ]
  },
  {
   "cell_type": "code",
   "execution_count": 12,
   "metadata": {},
   "outputs": [
    {
     "data": {
      "text/plain": [
       "3768"
      ]
     },
     "execution_count": 12,
     "metadata": {},
     "output_type": "execute_result"
    }
   ],
   "source": [
    "len(AB)"
   ]
  },
  {
   "cell_type": "code",
   "execution_count": 14,
   "metadata": {},
   "outputs": [
    {
     "name": "stdout",
     "output_type": "stream",
     "text": [
      "CPU times: user 1.87 s, sys: 8 ms, total: 1.88 s\n",
      "Wall time: 1.87 s\n"
     ]
    }
   ],
   "source": [
    "%time ABG = join(AB, List_G)"
   ]
  },
  {
   "cell_type": "code",
   "execution_count": 18,
   "metadata": {},
   "outputs": [],
   "source": [
    "ABGL = join(ABG, List_L)"
   ]
  },
  {
   "cell_type": "code",
   "execution_count": 19,
   "metadata": {},
   "outputs": [
    {
     "data": {
      "text/plain": [
       "949392"
      ]
     },
     "execution_count": 19,
     "metadata": {},
     "output_type": "execute_result"
    }
   ],
   "source": [
    "len(ABGL)"
   ]
  },
  {
   "cell_type": "code",
   "execution_count": 20,
   "metadata": {},
   "outputs": [],
   "source": [
    "ABGLT = join(ABGL, List_T)"
   ]
  },
  {
   "cell_type": "code",
   "execution_count": 21,
   "metadata": {},
   "outputs": [
    {
     "data": {
      "text/plain": [
       "316296"
      ]
     },
     "execution_count": 21,
     "metadata": {},
     "output_type": "execute_result"
    }
   ],
   "source": [
    "len(ABGLT)"
   ]
  },
  {
   "cell_type": "code",
   "execution_count": null,
   "metadata": {},
   "outputs": [],
   "source": [
    "z = ABGLT[56]\n",
    "z"
   ]
  },
  {
   "cell_type": "code",
   "execution_count": 22,
   "metadata": {
    "collapsed": true
   },
   "outputs": [],
   "source": [
    "Cube = join(ABGLT, List_Z)"
   ]
  },
  {
   "cell_type": "code",
   "execution_count": 19,
   "metadata": {},
   "outputs": [
    {
     "data": {
      "text/plain": [
       "48"
      ]
     },
     "execution_count": 19,
     "metadata": {},
     "output_type": "execute_result"
    }
   ],
   "source": [
    "len(Cube)"
   ]
  },
  {
   "cell_type": "code",
   "execution_count": 23,
   "metadata": {},
   "outputs": [],
   "source": [
    "lista = [x.tolist() for x in Cube]"
   ]
  },
  {
   "cell_type": "code",
   "execution_count": 24,
   "metadata": {},
   "outputs": [],
   "source": [
    "nlista = cleaning(lista)"
   ]
  },
  {
   "cell_type": "code",
   "execution_count": null,
   "metadata": {},
   "outputs": [],
   "source": []
  },
  {
   "cell_type": "code",
   "execution_count": 25,
   "metadata": {},
   "outputs": [
    {
     "data": {
      "text/plain": [
       "48"
      ]
     },
     "execution_count": 25,
     "metadata": {},
     "output_type": "execute_result"
    }
   ],
   "source": [
    "len(nlista) "
   ]
  },
  {
   "cell_type": "code",
   "execution_count": 31,
   "metadata": {},
   "outputs": [],
   "source": [
    "juan = [\n",
    "    [0,0,0,0,1,0,1,1,0,0,0,0,0,0,0,1,0,0,0,0,0,0,0,0,0,0,0],\n",
    "    [0,0,0,0,0,1,0,0,1,0,0,0,0,0,0,0,1,1,0,0,0,0,0,0,0,0,0],\n",
    "    [0,0,0,1,0,0,0,0,0,0,0,0,1,0,0,0,0,0,0,0,0,1,0,0,1,1,0],\n",
    "    [1,1,1,0,0,0,0,0,0,1,0,0,0,0,0,0,0,0,0,0,0,0,0,0,0,0,0],\n",
    "    [0,0,0,0,0,0,0,0,0,0,0,1,0,0,0,0,0,0,0,0,1,0,1,1,0,0,1],\n",
    "    [0,0,0,0,0,0,0,0,0,0,1,0,0,1,1,0,0,0,1,1,0,0,0,0,0,0,0]\n",
    "]\n",
    "\n",
    "mauro1 = [\n",
    "    [0,0,1,0,0,1,0,0,0,0,1,1,0,0,0,0,0,0,0,0,0,0,0,0,0,0,0],\n",
    "    [0,0,0,0,0,0,0,0,0,0,0,0,0,0,1,0,0,0,0,1,1,0,0,1,0,0,0],\n",
    "    [0,1,0,0,1,0,0,1,1,0,0,0,0,0,0,0,0,1,0,0,0,0,0,0,0,0,0],\n",
    "    [1,0,0,1,0,0,0,0,0,1,0,0,0,0,0,0,0,0,1,0,0,0,0,0,0,0,0],\n",
    "    [0,0,0,0,0,0,0,0,0,0,0,0,0,0,0,0,1,0,0,0,0,1,0,0,1,1,1],\n",
    "    [0,0,0,0,0,0,1,0,0,0,0,0,1,1,0,1,0,0,0,0,0,0,1,0,0,0,0]\n",
    "]\n",
    "\n",
    "mauro2 = [\n",
    "    []\n",
    "]"
   ]
  },
  {
   "cell_type": "code",
   "execution_count": 33,
   "metadata": {},
   "outputs": [
    {
     "name": "stdout",
     "output_type": "stream",
     "text": [
      "33\n"
     ]
    }
   ],
   "source": [
    "x = mauro1\n",
    "y = juan\n",
    "if x in nlista:\n",
    "    print(nlista.index(x))"
   ]
  },
  {
   "cell_type": "code",
   "execution_count": 44,
   "metadata": {},
   "outputs": [
    {
     "ename": "IndexError",
     "evalue": "list index out of range",
     "output_type": "error",
     "traceback": [
      "\u001b[0;31m---------------------------------------------------------------------------\u001b[0m",
      "\u001b[0;31mIndexError\u001b[0m                                Traceback (most recent call last)",
      "\u001b[0;32m<ipython-input-44-b258f410a51c>\u001b[0m in \u001b[0;36m<module>\u001b[0;34m()\u001b[0m\n\u001b[1;32m      3\u001b[0m \u001b[0;32mfor\u001b[0m \u001b[0mf\u001b[0m \u001b[0;32min\u001b[0m \u001b[0mMappings\u001b[0m\u001b[0;34m:\u001b[0m\u001b[0;34m\u001b[0m\u001b[0m\n\u001b[1;32m      4\u001b[0m     \u001b[0mCdm\u001b[0m \u001b[0;34m=\u001b[0m \u001b[0mmap\u001b[0m\u001b[0;34m(\u001b[0m\u001b[0mf\u001b[0m\u001b[0;34m,\u001b[0m\u001b[0mclase_juan\u001b[0m\u001b[0;34m)\u001b[0m\u001b[0;34m\u001b[0m\u001b[0m\n\u001b[0;32m----> 5\u001b[0;31m     \u001b[0mclase_juan\u001b[0m \u001b[0;34m=\u001b[0m \u001b[0mlist\u001b[0m\u001b[0;34m(\u001b[0m\u001b[0mitertools\u001b[0m\u001b[0;34m.\u001b[0m\u001b[0mchain\u001b[0m\u001b[0;34m(\u001b[0m\u001b[0mclase_juan\u001b[0m\u001b[0;34m,\u001b[0m\u001b[0mCdm\u001b[0m\u001b[0;34m)\u001b[0m\u001b[0;34m)\u001b[0m\u001b[0;34m\u001b[0m\u001b[0m\n\u001b[0m\u001b[1;32m      6\u001b[0m \u001b[0;34m\u001b[0m\u001b[0m\n",
      "\u001b[0;32m~/py/Soma--master/somatools.py\u001b[0m in \u001b[0;36mturn3D_X\u001b[0;34m(x)\u001b[0m\n\u001b[1;32m    120\u001b[0m     turn_order_X = [18, 19, 20,  9, 10, 11,  0,  1,  2, 21, 22, 23, 12, 13, 14,  3,  4,\n\u001b[1;32m    121\u001b[0m         5, 24, 25, 26, 15, 16, 17,  6,  7,  8]\n\u001b[0;32m--> 122\u001b[0;31m     \u001b[0;32mreturn\u001b[0m  \u001b[0;34m[\u001b[0m\u001b[0mx\u001b[0m\u001b[0;34m[\u001b[0m\u001b[0mi\u001b[0m\u001b[0;34m]\u001b[0m \u001b[0;32mfor\u001b[0m \u001b[0mi\u001b[0m \u001b[0;32min\u001b[0m \u001b[0mturn_order_X\u001b[0m\u001b[0;34m]\u001b[0m\u001b[0;34m\u001b[0m\u001b[0m\n\u001b[0m\u001b[1;32m    123\u001b[0m \u001b[0;34m\u001b[0m\u001b[0m\n\u001b[1;32m    124\u001b[0m \u001b[0;34m\u001b[0m\u001b[0m\n",
      "\u001b[0;32m~/py/Soma--master/somatools.py\u001b[0m in \u001b[0;36m<listcomp>\u001b[0;34m(.0)\u001b[0m\n\u001b[1;32m    120\u001b[0m     turn_order_X = [18, 19, 20,  9, 10, 11,  0,  1,  2, 21, 22, 23, 12, 13, 14,  3,  4,\n\u001b[1;32m    121\u001b[0m         5, 24, 25, 26, 15, 16, 17,  6,  7,  8]\n\u001b[0;32m--> 122\u001b[0;31m     \u001b[0;32mreturn\u001b[0m  \u001b[0;34m[\u001b[0m\u001b[0mx\u001b[0m\u001b[0;34m[\u001b[0m\u001b[0mi\u001b[0m\u001b[0;34m]\u001b[0m \u001b[0;32mfor\u001b[0m \u001b[0mi\u001b[0m \u001b[0;32min\u001b[0m \u001b[0mturn_order_X\u001b[0m\u001b[0;34m]\u001b[0m\u001b[0;34m\u001b[0m\u001b[0m\n\u001b[0m\u001b[1;32m    123\u001b[0m \u001b[0;34m\u001b[0m\u001b[0m\n\u001b[1;32m    124\u001b[0m \u001b[0;34m\u001b[0m\u001b[0m\n",
      "\u001b[0;31mIndexError\u001b[0m: list index out of range"
     ]
    }
   ],
   "source": [
    "clase_juan = [juan]\n",
    "Mappings = [tX, tX, tX, tY, tY, tY, tZ, tZ, tZ]\n",
    "for f in Mappings:\n",
    "    Cdm = map(f,clase_juan)\n",
    "    clase_juan = list(itertools.chain(clase_juan,Cdm))\n",
    "    "
   ]
  },
  {
   "cell_type": "code",
   "execution_count": 43,
   "metadata": {},
   "outputs": [
    {
     "data": {
      "text/plain": [
       "array([[ 1,  0, -1,  1,  1, -1,  0,  0,  0,  1, -1, -1,  0,  0,  0,  0,  0,\n",
       "         0,  0,  0,  0,  0,  0,  0,  0,  0,  0],\n",
       "       [ 0,  0,  0,  0,  0,  0,  1,  1,  0,  0,  0,  0,  1,  0, -1,  1,  0,\n",
       "         0,  0, -1, -1,  0,  0, -1,  0,  0,  0],\n",
       "       [ 0,  0,  0,  0, -1,  0,  0, -1, -1,  0,  1,  0,  0,  0,  0,  0,  0,\n",
       "        -1,  1,  1,  0,  1,  0,  0,  0,  0,  0],\n",
       "       [-1,  0,  1, -1,  0,  1,  0,  0,  1, -1,  0,  1,  0,  0,  0,  0,  0,\n",
       "         0, -1,  0,  0,  0,  0,  0,  0,  0,  0],\n",
       "       [ 0,  0,  0,  0,  0,  0,  0,  0,  0,  0,  0,  0,  0,  0,  0,  0, -1,\n",
       "         1,  0,  0,  0, -1,  1,  0,  0,  0,  0],\n",
       "       [ 0,  0,  0,  0,  0,  0, -1,  0,  0,  0,  0,  0, -1,  0,  1, -1,  1,\n",
       "         0,  0,  0,  1,  0, -1,  1,  0,  0,  0]])"
      ]
     },
     "execution_count": 43,
     "metadata": {},
     "output_type": "execute_result"
    }
   ],
   "source": [
    "juanZ- np.array(mauro1)"
   ]
  },
  {
   "cell_type": "code",
   "execution_count": 26,
   "metadata": {},
   "outputs": [
    {
     "data": {
      "image/png": "[encoded data removed]",
      "text/plain": [
       "<matplotlib.figure.Figure at 0x7ff28208d438>"
      ]
     },
     "metadata": {},
     "output_type": "display_data"
    }
   ],
   "source": [
    "pict(z[2])"
   ]
  },
  {
   "cell_type": "code",
   "execution_count": 27,
   "metadata": {},
   "outputs": [
    {
     "data": {
      "image/png": "[encoded data removed]",
      "text/plain": [
       "<matplotlib.figure.Figure at 0x7ff27f2cb0f0>"
      ]
     },
     "metadata": {},
     "output_type": "display_data"
    }
   ],
   "source": [
    "pict(z[3])"
   ]
  },
  {
   "cell_type": "code",
   "execution_count": 28,
   "metadata": {},
   "outputs": [
    {
     "data": {
      "image/png": "[encoded data removed]",
      "text/plain": [
       "<matplotlib.figure.Figure at 0x7ff278821710>"
      ]
     },
     "metadata": {},
     "output_type": "display_data"
    }
   ],
   "source": [
    "pict(z[4])"
   ]
  },
  {
   "cell_type": "code",
   "execution_count": 29,
   "metadata": {},
   "outputs": [
    {
     "data": {
      "image/png": "[encoded data removed]",
      "text/plain": [
       "<matplotlib.figure.Figure at 0x7ff2786bbc50>"
      ]
     },
     "metadata": {},
     "output_type": "display_data"
    }
   ],
   "source": [
    "pict(z[5])"
   ]
  },
  {
   "cell_type": "code",
   "execution_count": null,
   "metadata": {},
   "outputs": [],
   "source": [
    "720/24"
   ]
  },
  {
   "cell_type": "code",
   "execution_count": 30,
   "metadata": {
    "collapsed": true
   },
   "outputs": [],
   "source": [
    "with open('Cube.csv', 'w', newline='') as f:\n",
    "    writer = csv.writer(f)\n",
    "    writer.writerows(\"C\")\n",
    "    for i in range(len(Cube)):\n",
    "        row = Cube[i] \n",
    "        writer.writerow(row)"
   ]
  },
  {
   "cell_type": "code",
   "execution_count": 31,
   "metadata": {
    "collapsed": true
   },
   "outputs": [],
   "source": [
    "List_A = posA()\n",
    "with open('posA.csv', 'w', newline='') as f:\n",
    "    writer = csv.writer(f)\n",
    "    writer.writerows(\"A\")\n",
    "    for i in range(len(List_A)):\n",
    "        row = List_A[i] \n",
    "        writer.writerow(row)"
   ]
  },
  {
   "cell_type": "code",
   "execution_count": 32,
   "metadata": {
    "collapsed": true
   },
   "outputs": [],
   "source": [
    "List_B = posB()\n",
    "with open('posB.csv', 'w', newline='') as f:\n",
    "    writer = csv.writer(f)\n",
    "    writer.writerows(\"B\")\n",
    "    for i in range(len(List_B)):\n",
    "        row = List_B[i] \n",
    "        writer.writerow(row)"
   ]
  },
  {
   "cell_type": "code",
   "execution_count": 33,
   "metadata": {
    "collapsed": true
   },
   "outputs": [],
   "source": [
    "List_G = posG()\n",
    "with open('posG.csv', 'w', newline='') as f:\n",
    "    writer = csv.writer(f)\n",
    "    writer.writerows(\"G\")\n",
    "    for i in range(len(List_G)):\n",
    "        row = List_G[i] \n",
    "        writer.writerow(row)"
   ]
  },
  {
   "cell_type": "code",
   "execution_count": 34,
   "metadata": {
    "collapsed": true
   },
   "outputs": [],
   "source": [
    "List_L = posL()\n",
    "with open('posL.csv', 'w', newline='') as f:\n",
    "    writer = csv.writer(f)\n",
    "    writer.writerows(\"L\")\n",
    "    for i in range(len(List_L)):\n",
    "        row = List_L[i] \n",
    "        writer.writerow(row)"
   ]
  },
  {
   "cell_type": "code",
   "execution_count": 35,
   "metadata": {
    "collapsed": true
   },
   "outputs": [],
   "source": [
    "List_T = posT()\n",
    "with open('posT.csv', 'w', newline='') as f:\n",
    "    writer = csv.writer(f)\n",
    "    writer.writerows(\"T\")\n",
    "    for i in range(len(List_T)):\n",
    "        row = List_T[i] \n",
    "        writer.writerow(row)"
   ]
  },
  {
   "cell_type": "code",
   "execution_count": 36,
   "metadata": {
    "collapsed": true
   },
   "outputs": [],
   "source": [
    "List_Z = posZ()\n",
    "with open('posZ.csv', 'w', newline='') as f:\n",
    "    writer = csv.writer(f)\n",
    "    writer.writerows(\"Z\")\n",
    "    for i in range(len(List_Z)):\n",
    "        row = List_Z[i] \n",
    "        writer.writerow(row)"
   ]
  },
  {
   "cell_type": "code",
   "execution_count": null,
   "metadata": {},
   "outputs": [],
   "source": []
  },
  {
   "cell_type": "code",
   "execution_count": 9,
   "metadata": {},
   "outputs": [
    {
     "data": {
      "image/png": "[encoded data removed]",
      "text/plain": [
       "<matplotlib.figure.Figure at 0x7ff27f405208>"
      ]
     },
     "metadata": {},
     "output_type": "display_data"
    }
   ],
   "source": [
    "pict(T)"
   ]
  },
  {
   "cell_type": "code",
   "execution_count": null,
   "metadata": {},
   "outputs": [],
   "source": [
    "pict(List_Z[27])"
   ]
  },
  {
   "cell_type": "code",
   "execution_count": null,
   "metadata": {},
   "outputs": [],
   "source": [
    "list2d = [[1,2,3],[4,5,6], [7], [8,9]]\n",
    "merged = list(itertools.chain(*list2d))"
   ]
  },
  {
   "cell_type": "code",
   "execution_count": null,
   "metadata": {},
   "outputs": [],
   "source": [
    "merged\n"
   ]
  },
  {
   "cell_type": "code",
   "execution_count": null,
   "metadata": {
    "collapsed": true
   },
   "outputs": [],
   "source": []
  }
 ],
 "metadata": {
  "kernelspec": {
   "display_name": "Python 3",
   "language": "python",
   "name": "python3"
  },
  "language_info": {
   "codemirror_mode": {
    "name": "ipython",
    "version": 3
   },
   "file_extension": ".py",
   "mimetype": "text/x-python",
   "name": "python",
   "nbconvert_exporter": "python",
   "pygments_lexer": "ipython3",
   "version": "3.6.3"
  }
 },
 "nbformat": 4,
 "nbformat_minor": 1
}
