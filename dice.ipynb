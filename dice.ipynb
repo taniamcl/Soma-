{
 "cells": [
  {
   "cell_type": "markdown",
   "metadata": {},
   "source": [
    "# <center> Dices </center>\n",
    "-----------------------\n",
    "\n",
    "\n",
    "<p>\n",
    "    <img src=\"dice.png\" width=\"200\">\n",
    "    <center> <em>Right handed dice</em> </center>\n",
    "</p>\n",
    "\n",
    "A traditional dice is a cube, with each of its six faces showing six different figures (pips). When thrown or rolled, the die comes to rest showing on its upper surface a random pip, each pip being equally likely. \n",
    "https://en.wikipedia.org/wiki/Dice\n",
    "\n",
    "The dice can be seen as a sequence of six numbers (u,f,d,b,l,r), each one representing a face, the first being the upwards face (u), the second the front face (f), the third downwards face (d), the fourth the back face (b), the fith the lef face and the sixth the right face.\n",
    "\n",
    "We consider a western dice (right handet) and identify the pips with the numbers from one to six. Since opposite faces udd up to seven, the u element of the sequence can be any number of {1,2,3,4,5,6}, yet f element has restrictions. Notice that the last two elements (l,r) are invariant under cyclic permutation of the elements(u,f,d,b).\n",
    "\n",
    "Given the cyclic part of the sequence (u,f,d,b), the last two elements (l,r) can be determined by the chirality of the dice.\n",
    " "
   ]
  },
  {
   "cell_type": "code",
   "execution_count": 48,
   "metadata": {
    "collapsed": true
   },
   "outputs": [],
   "source": [
    "import itertools"
   ]
  },
  {
   "cell_type": "code",
   "execution_count": 50,
   "metadata": {},
   "outputs": [],
   "source": [
    "pips = list(range(1,7))\n",
    "chirality = {(3,1):5, (1,3):2, (1,2):4, (2,1):3, (3,2): 1, (2,3):6}"
   ]
  },
  {
   "cell_type": "code",
   "execution_count": 51,
   "metadata": {},
   "outputs": [],
   "source": [
    "def complete(cic):\n",
    "    '''\\\n",
    "    Given the cyclic part (u,f,d,b), it completes the sequence determining \n",
    "    by chirality the last two elements r and l. The return is the sequence\n",
    "    (u,f,d,b,l,r)\n",
    "    '''    \n",
    "    cp  = cic\n",
    "    first, second  = sorted(cp)[0], sorted(cp)[1]\n",
    "    pos0, pos1 = cp.index(first), cp.index(second)\n",
    "    if (pos0 < pos1): l = chirality[(first, second)]\n",
    "    else: l = chirality[(second, first)]\n",
    "    r = 7 -l\n",
    "    cp.append(l)\n",
    "    cp.append(r)\n",
    "    return cp"
   ]
  },
  {
   "cell_type": "code",
   "execution_count": 52,
   "metadata": {
    "collapsed": true
   },
   "outputs": [],
   "source": [
    "def front(i):\n",
    "    '''\\\n",
    "    Given that the upwards face equals i, it determines all posible front faces f\n",
    "    '''    \n",
    "    cp = list(range(1,7))\n",
    "    cp.remove(i)\n",
    "    cp.remove(7-i)\n",
    "    cp.sort()\n",
    "    return cp "
   ]
  },
  {
   "cell_type": "code",
   "execution_count": 53,
   "metadata": {
    "collapsed": true
   },
   "outputs": [],
   "source": [
    "def ciclic(i):\n",
    "    '''\\\n",
    "    It determines all posible cyclic sequences (u,f,d,b) having upwards face i (u =1)\n",
    "    '''  \n",
    "    dice_cic = []\n",
    "    for j in complement(i): \n",
    "        mssg = []\n",
    "        mssg.append(i)\n",
    "        mssg.append(j)\n",
    "        mssg.append(7-i)\n",
    "        mssg.append(7-j)\n",
    "        dice_cic.append(mssg)\n",
    "    return dice_cic"
   ]
  },
  {
   "cell_type": "code",
   "execution_count": 54,
   "metadata": {},
   "outputs": [],
   "source": [
    "c_dice = []\n",
    "for i in pips: c_dice.append(ciclic(i))\n",
    "cyclic_dice = list(itertools.chain(*c_dice))"
   ]
  },
  {
   "cell_type": "code",
   "execution_count": 47,
   "metadata": {},
   "outputs": [
    {
     "data": {
      "text/plain": [
       "[[1, 2, 6, 5, 4, 3],\n",
       " [1, 3, 6, 4, 2, 5],\n",
       " [1, 4, 6, 3, 2, 5],\n",
       " [1, 5, 6, 2, 4, 3],\n",
       " [2, 1, 5, 6, 3, 4],\n",
       " [2, 3, 5, 4, 6, 1],\n",
       " [2, 4, 5, 3, 6, 1],\n",
       " [2, 6, 5, 1, 3, 4],\n",
       " [3, 1, 4, 6, 5, 2],\n",
       " [3, 2, 4, 5, 1, 6],\n",
       " [3, 5, 4, 2, 1, 6],\n",
       " [3, 6, 4, 1, 5, 2],\n",
       " [4, 1, 3, 6, 2, 5],\n",
       " [4, 2, 3, 5, 6, 1],\n",
       " [4, 5, 3, 2, 1, 6],\n",
       " [4, 6, 3, 1, 5, 2],\n",
       " [5, 1, 2, 6, 4, 3],\n",
       " [5, 3, 2, 4, 1, 6],\n",
       " [5, 4, 2, 3, 6, 1],\n",
       " [5, 6, 2, 1, 3, 4],\n",
       " [6, 2, 1, 5, 3, 4],\n",
       " [6, 3, 1, 4, 5, 2],\n",
       " [6, 4, 1, 3, 2, 5],\n",
       " [6, 5, 1, 2, 4, 3]]"
      ]
     },
     "execution_count": 47,
     "metadata": {},
     "output_type": "execute_result"
    }
   ],
   "source": [
    "dice = [complete(cic) for cic in cyclic_dice]\n",
    "dice"
   ]
  },
  {
   "cell_type": "code",
   "execution_count": null,
   "metadata": {
    "collapsed": true
   },
   "outputs": [],
   "source": [
    "def perm_parity(lst):\n",
    "    '''\\\n",
    "    Given a permutation of the digits 0..N in order as a list, \n",
    "    returns its parity (or sign): +1 for even parity; -1 for odd.\n",
    "    '''\n",
    "    parity = 1\n",
    "    for i in range(0,len(lst)-1):\n",
    "        if lst[i] != i:\n",
    "            parity *= -1\n",
    "            mn = min(range(i,len(lst)), key=lst.__getitem__)\n",
    "            lst[i],lst[mn] = lst[mn],lst[i]\n",
    "    return parity    "
   ]
  },
  {
   "cell_type": "code",
   "execution_count": 3,
   "metadata": {},
   "outputs": [],
   "source": [
    "for p in itertools.permutations(range(6)):\n",
    "        l = list(p)\n",
    "        #print(perm_parity(l), p)"
   ]
  },
  {
   "cell_type": "code",
   "execution_count": 56,
   "metadata": {
    "collapsed": true
   },
   "outputs": [],
   "source": [
    "def chg2perm(seq):\n",
    "    return [k-1 for k in seq]"
   ]
  },
  {
   "cell_type": "code",
   "execution_count": 64,
   "metadata": {
    "collapsed": true
   },
   "outputs": [],
   "source": [
    "dice_permutations = [chg2perm(seq) for seq in dice]"
   ]
  },
  {
   "cell_type": "code",
   "execution_count": 65,
   "metadata": {},
   "outputs": [],
   "source": [
    "# Writing data in json format for later retrival\n",
    "import json\n",
    "with open('dice_permutations.json', 'w') as outfile:\n",
    "    json.dump(dice_permutations, outfile, indent=4, sort_keys=True, separators=(',', ':'))"
   ]
  },
  {
   "cell_type": "code",
   "execution_count": 58,
   "metadata": {
    "collapsed": true
   },
   "outputs": [],
   "source": [
    "parity = [perm_parity(pm) for pm in permutations]"
   ]
  },
  {
   "cell_type": "code",
   "execution_count": null,
   "metadata": {
    "collapsed": true
   },
   "outputs": [],
   "source": []
  }
 ],
 "metadata": {
  "kernelspec": {
   "display_name": "Python 3",
   "language": "python",
   "name": "python3"
  },
  "language_info": {
   "codemirror_mode": {
    "name": "ipython",
    "version": 3
   },
   "file_extension": ".py",
   "mimetype": "text/x-python",
   "name": "python",
   "nbconvert_exporter": "python",
   "pygments_lexer": "ipython3",
   "version": "3.6.3"
  }
 },
 "nbformat": 4,
 "nbformat_minor": 1
}
